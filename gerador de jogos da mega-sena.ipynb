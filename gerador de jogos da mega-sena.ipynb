{
 "cells": [
  {
   "cell_type": "code",
   "execution_count": 1,
   "id": "fe8d3e43",
   "metadata": {},
   "outputs": [
    {
     "name": "stdout",
     "output_type": "stream",
     "text": [
      "quantos jogos deseja jogar: 1\n",
      "------------------------------\n",
      " lista de jogos 1:\n",
      "[12, 34, 36, 37, 52, 56]\n",
      "------------------------------\n",
      "fim de jogo!\n"
     ]
    }
   ],
   "source": [
    "from random import randint\n",
    "números = [10, 30, 31, 33 42 – 52.]\n",
    "quant = 0\n",
    "jogos = int(input('quantos jogos deseja jogar: '))\n",
    "for j in range(1,jogos+1):\n",
    "    for quant in range(0,6):\n",
    "        números[quant] = randint(1,60)\n",
    "        if quant != 0:\n",
    "            if números[quant] == números[quant-1]:\n",
    "                números[quant] = randint(1,60)\n",
    "\n",
    "    números.sort()\n",
    "    print('-'*30)\n",
    "    print(f' lista de jogos {j}:')\n",
    "    print(números)\n",
    "print('-'*30)\n",
    "print('fim de jogo!')"
   ]
  }
 ],
 "metadata": {
  "kernelspec": {
   "display_name": "Python 3 (ipykernel)",
   "language": "python",
   "name": "python3"
  },
  "language_info": {
   "codemirror_mode": {
    "name": "ipython",
    "version": 3
   },
   "file_extension": ".py",
   "mimetype": "text/x-python",
   "name": "python",
   "nbconvert_exporter": "python",
   "pygments_lexer": "ipython3",
   "version": "3.9.12"
  }
 },
 "nbformat": 4,
 "nbformat_minor": 5
}
